{
  "nbformat": 4,
  "nbformat_minor": 0,
  "metadata": {
    "colab": {
      "provenance": []
    },
    "kernelspec": {
      "name": "python3",
      "display_name": "Python 3"
    }
  },
  "cells": [
    {
      "cell_type": "markdown",
      "metadata": {
        "id": "CWB9BpTwAzmt"
      },
      "source": [
        "#Objective - Create a scatterplot"
      ]
    },
    {
      "cell_type": "markdown",
      "metadata": {
        "id": "uhmdnOzupL1N"
      },
      "source": [
        "### Let's start with an example:\n",
        "\n"
      ]
    },
    {
      "cell_type": "markdown",
      "metadata": {
        "id": "K1ExqvbepUkB"
      },
      "source": [
        "Anyone who is a fan of detective TV shows has watched a scene where human remains are discovered and some sort of expert is called in to determine when the person died. But is this science fiction or science fact? Is it possible to use evidence from skeletal remains to determine how long a body has been buried (a decent approximation of how long the person has been dead)?\n",
        "\n",
        "\n"
      ]
    },
    {
      "cell_type": "markdown",
      "metadata": {
        "id": "OypdMHJop6bQ"
      },
      "source": [
        "Researchers sampled long bone material from bodies exhumed from coffin burials in two cemeteries in England. In each case, date of death and burial (and therefore interment time) was known. This data is given in the Longbones.csv dataset."
      ]
    },
    {
      "cell_type": "markdown",
      "metadata": {
        "id": "lM5t4Yajp8mH"
      },
      "source": [
        "**We wish to determine if there is a relationship between the nitrogen composition of the long bones of the skeleton and the length of time the body was interred.**\n",
        "\n",
        "Source: D.R. Jarvis (1997). \"Nitrogen Levels in Long Bones from Coffin Burials Interred for Periods of 26-90 Years,\" Forensic Science International, Vol85, pp199-208"
      ]
    },
    {
      "cell_type": "markdown",
      "source": [
        "Site,Time,Depth,Lime,Age,Nitro,Oil\n",
        "1,88.5,7,1,NA,3.88,1\n",
        "1,88.5,NA,1,NA,4,1\n",
        "1,85.2,7,1,NA,3.69,1\n",
        "1,71.8,7.6,1,65,3.88,0\n",
        "1,70.6,7.5,1,42,3.53,0\n",
        "1,68,7,1,28,3.93,0\n",
        "1,71.6,8,1,35,3.88,0\n",
        "1,70.2,6,1,44,3.64,0\n",
        "1,55.5,6,0,29,3.97,0\n",
        "1,36.5,6.5,0,NA,3.85,0\n",
        "1,36.3,6.5,0,48,3.96,0\n",
        "1,46.5,6.5,0,35,3.69,0\n",
        "1,35.9,6.5,0,NA,3.76,0\n",
        "1,45.5,6.5,0,34,3.75,0\n",
        "1,43,6.5,0,38,3.75,0\n",
        "1,44.9,6.5,0,27,3.92,0\n",
        "1,59.5,8,0,26,3.76,0\n",
        "1,58.3,8,0,23,3.93,0\n",
        "1,56.5,8,0,35,3.7,0\n",
        "1,56.3,8,0,23,3.82,0\n",
        "1,43,6.5,0,40,3.78,0\n",
        "1,42.5,9,0,31,4,0\n",
        "1,29,7.5,0,31,3.92,0\n",
        "1,35.3,8.5,0,39,3.79,0\n",
        "2,93.6,4,1,39,3.49,0\n",
        "2,90,4,1,43,3.57,0\n",
        "2,88,5.5,1,26,3.43,0\n",
        "2,84.4,5,1,NA,3.55,0\n",
        "2,84,4.75,1,NA,3.5,0\n",
        "2,79.7,4.75,1,47,3.27,0\n",
        "2,67.4,4.5,1,39,3.66,0\n",
        "2,64.7,5,1,27,3.9,0\n",
        "2,64.7,5.5,1,35,3.91,0\n",
        "2,38.3,7,0,21,3.73,0\n",
        "2,59.6,9.25,0,46,3.72,0\n",
        "2,32,9,0,24,3.85,0\n",
        "2,32.2,9,0,27,3.85,0\n",
        "2,26.5,7,0,34,4.06,0\n",
        "2,34.7,8.5,0,30,4.04,0\n",
        "2,27.6,6,0,22,4,0\n",
        "2,35.7,9,0,19,3.93,0\n",
        "2,49.6,9,0,50,3.85,0"
      ],
      "metadata": {
        "id": "VSLHZia-0BJI"
      }
    },
    {
      "cell_type": "code",
      "metadata": {
        "id": "sJegaDmRn0a6",
        "colab": {
          "base_uri": "https://localhost:8080/",
          "height": 262
        },
        "outputId": "1df218b6-3c9e-4af1-f23a-90e91ed9b0bb"
      },
      "source": [
        "#Import the Longbones.csv dataset from a URL and print the first few rows\n",
        "#Save the above dataset\n",
        "import pandas as pd\n",
        "import numpy as np\n",
        "from google.colab import files\n",
        "upload=files.upload()\n",
        "df = pd.read_csv(\"Longestbones.csv\")\n",
        "df.head()\n",
        "\n"
      ],
      "execution_count": 4,
      "outputs": [
        {
          "output_type": "display_data",
          "data": {
            "text/plain": [
              "<IPython.core.display.HTML object>"
            ],
            "text/html": [
              "\n",
              "     <input type=\"file\" id=\"files-23b96038-0ff0-4366-97c5-60d9cc66c589\" name=\"files[]\" multiple disabled\n",
              "        style=\"border:none\" />\n",
              "     <output id=\"result-23b96038-0ff0-4366-97c5-60d9cc66c589\">\n",
              "      Upload widget is only available when the cell has been executed in the\n",
              "      current browser session. Please rerun this cell to enable.\n",
              "      </output>\n",
              "      <script>// Copyright 2017 Google LLC\n",
              "//\n",
              "// Licensed under the Apache License, Version 2.0 (the \"License\");\n",
              "// you may not use this file except in compliance with the License.\n",
              "// You may obtain a copy of the License at\n",
              "//\n",
              "//      http://www.apache.org/licenses/LICENSE-2.0\n",
              "//\n",
              "// Unless required by applicable law or agreed to in writing, software\n",
              "// distributed under the License is distributed on an \"AS IS\" BASIS,\n",
              "// WITHOUT WARRANTIES OR CONDITIONS OF ANY KIND, either express or implied.\n",
              "// See the License for the specific language governing permissions and\n",
              "// limitations under the License.\n",
              "\n",
              "/**\n",
              " * @fileoverview Helpers for google.colab Python module.\n",
              " */\n",
              "(function(scope) {\n",
              "function span(text, styleAttributes = {}) {\n",
              "  const element = document.createElement('span');\n",
              "  element.textContent = text;\n",
              "  for (const key of Object.keys(styleAttributes)) {\n",
              "    element.style[key] = styleAttributes[key];\n",
              "  }\n",
              "  return element;\n",
              "}\n",
              "\n",
              "// Max number of bytes which will be uploaded at a time.\n",
              "const MAX_PAYLOAD_SIZE = 100 * 1024;\n",
              "\n",
              "function _uploadFiles(inputId, outputId) {\n",
              "  const steps = uploadFilesStep(inputId, outputId);\n",
              "  const outputElement = document.getElementById(outputId);\n",
              "  // Cache steps on the outputElement to make it available for the next call\n",
              "  // to uploadFilesContinue from Python.\n",
              "  outputElement.steps = steps;\n",
              "\n",
              "  return _uploadFilesContinue(outputId);\n",
              "}\n",
              "\n",
              "// This is roughly an async generator (not supported in the browser yet),\n",
              "// where there are multiple asynchronous steps and the Python side is going\n",
              "// to poll for completion of each step.\n",
              "// This uses a Promise to block the python side on completion of each step,\n",
              "// then passes the result of the previous step as the input to the next step.\n",
              "function _uploadFilesContinue(outputId) {\n",
              "  const outputElement = document.getElementById(outputId);\n",
              "  const steps = outputElement.steps;\n",
              "\n",
              "  const next = steps.next(outputElement.lastPromiseValue);\n",
              "  return Promise.resolve(next.value.promise).then((value) => {\n",
              "    // Cache the last promise value to make it available to the next\n",
              "    // step of the generator.\n",
              "    outputElement.lastPromiseValue = value;\n",
              "    return next.value.response;\n",
              "  });\n",
              "}\n",
              "\n",
              "/**\n",
              " * Generator function which is called between each async step of the upload\n",
              " * process.\n",
              " * @param {string} inputId Element ID of the input file picker element.\n",
              " * @param {string} outputId Element ID of the output display.\n",
              " * @return {!Iterable<!Object>} Iterable of next steps.\n",
              " */\n",
              "function* uploadFilesStep(inputId, outputId) {\n",
              "  const inputElement = document.getElementById(inputId);\n",
              "  inputElement.disabled = false;\n",
              "\n",
              "  const outputElement = document.getElementById(outputId);\n",
              "  outputElement.innerHTML = '';\n",
              "\n",
              "  const pickedPromise = new Promise((resolve) => {\n",
              "    inputElement.addEventListener('change', (e) => {\n",
              "      resolve(e.target.files);\n",
              "    });\n",
              "  });\n",
              "\n",
              "  const cancel = document.createElement('button');\n",
              "  inputElement.parentElement.appendChild(cancel);\n",
              "  cancel.textContent = 'Cancel upload';\n",
              "  const cancelPromise = new Promise((resolve) => {\n",
              "    cancel.onclick = () => {\n",
              "      resolve(null);\n",
              "    };\n",
              "  });\n",
              "\n",
              "  // Wait for the user to pick the files.\n",
              "  const files = yield {\n",
              "    promise: Promise.race([pickedPromise, cancelPromise]),\n",
              "    response: {\n",
              "      action: 'starting',\n",
              "    }\n",
              "  };\n",
              "\n",
              "  cancel.remove();\n",
              "\n",
              "  // Disable the input element since further picks are not allowed.\n",
              "  inputElement.disabled = true;\n",
              "\n",
              "  if (!files) {\n",
              "    return {\n",
              "      response: {\n",
              "        action: 'complete',\n",
              "      }\n",
              "    };\n",
              "  }\n",
              "\n",
              "  for (const file of files) {\n",
              "    const li = document.createElement('li');\n",
              "    li.append(span(file.name, {fontWeight: 'bold'}));\n",
              "    li.append(span(\n",
              "        `(${file.type || 'n/a'}) - ${file.size} bytes, ` +\n",
              "        `last modified: ${\n",
              "            file.lastModifiedDate ? file.lastModifiedDate.toLocaleDateString() :\n",
              "                                    'n/a'} - `));\n",
              "    const percent = span('0% done');\n",
              "    li.appendChild(percent);\n",
              "\n",
              "    outputElement.appendChild(li);\n",
              "\n",
              "    const fileDataPromise = new Promise((resolve) => {\n",
              "      const reader = new FileReader();\n",
              "      reader.onload = (e) => {\n",
              "        resolve(e.target.result);\n",
              "      };\n",
              "      reader.readAsArrayBuffer(file);\n",
              "    });\n",
              "    // Wait for the data to be ready.\n",
              "    let fileData = yield {\n",
              "      promise: fileDataPromise,\n",
              "      response: {\n",
              "        action: 'continue',\n",
              "      }\n",
              "    };\n",
              "\n",
              "    // Use a chunked sending to avoid message size limits. See b/62115660.\n",
              "    let position = 0;\n",
              "    do {\n",
              "      const length = Math.min(fileData.byteLength - position, MAX_PAYLOAD_SIZE);\n",
              "      const chunk = new Uint8Array(fileData, position, length);\n",
              "      position += length;\n",
              "\n",
              "      const base64 = btoa(String.fromCharCode.apply(null, chunk));\n",
              "      yield {\n",
              "        response: {\n",
              "          action: 'append',\n",
              "          file: file.name,\n",
              "          data: base64,\n",
              "        },\n",
              "      };\n",
              "\n",
              "      let percentDone = fileData.byteLength === 0 ?\n",
              "          100 :\n",
              "          Math.round((position / fileData.byteLength) * 100);\n",
              "      percent.textContent = `${percentDone}% done`;\n",
              "\n",
              "    } while (position < fileData.byteLength);\n",
              "  }\n",
              "\n",
              "  // All done.\n",
              "  yield {\n",
              "    response: {\n",
              "      action: 'complete',\n",
              "    }\n",
              "  };\n",
              "}\n",
              "\n",
              "scope.google = scope.google || {};\n",
              "scope.google.colab = scope.google.colab || {};\n",
              "scope.google.colab._files = {\n",
              "  _uploadFiles,\n",
              "  _uploadFilesContinue,\n",
              "};\n",
              "})(self);\n",
              "</script> "
            ]
          },
          "metadata": {}
        },
        {
          "output_type": "stream",
          "name": "stdout",
          "text": [
            "Saving Longestbones.csv to Longestbones.csv\n"
          ]
        },
        {
          "output_type": "execute_result",
          "data": {
            "text/plain": [
              "   Site  Time  Depth  Lime   Age  Nitro  Oil\n",
              "0     1  88.5    7.0     1   NaN   3.88    1\n",
              "1     1  88.5    NaN     1   NaN   4.00    1\n",
              "2     1  85.2    7.0     1   NaN   3.69    1\n",
              "3     1  71.8    7.6     1  65.0   3.88    0\n",
              "4     1  70.6    7.5     1  42.0   3.53    0"
            ],
            "text/html": [
              "\n",
              "  <div id=\"df-ea7e9ebd-b260-40d4-8af7-0b24d83d8753\" class=\"colab-df-container\">\n",
              "    <div>\n",
              "<style scoped>\n",
              "    .dataframe tbody tr th:only-of-type {\n",
              "        vertical-align: middle;\n",
              "    }\n",
              "\n",
              "    .dataframe tbody tr th {\n",
              "        vertical-align: top;\n",
              "    }\n",
              "\n",
              "    .dataframe thead th {\n",
              "        text-align: right;\n",
              "    }\n",
              "</style>\n",
              "<table border=\"1\" class=\"dataframe\">\n",
              "  <thead>\n",
              "    <tr style=\"text-align: right;\">\n",
              "      <th></th>\n",
              "      <th>Site</th>\n",
              "      <th>Time</th>\n",
              "      <th>Depth</th>\n",
              "      <th>Lime</th>\n",
              "      <th>Age</th>\n",
              "      <th>Nitro</th>\n",
              "      <th>Oil</th>\n",
              "    </tr>\n",
              "  </thead>\n",
              "  <tbody>\n",
              "    <tr>\n",
              "      <th>0</th>\n",
              "      <td>1</td>\n",
              "      <td>88.5</td>\n",
              "      <td>7.0</td>\n",
              "      <td>1</td>\n",
              "      <td>NaN</td>\n",
              "      <td>3.88</td>\n",
              "      <td>1</td>\n",
              "    </tr>\n",
              "    <tr>\n",
              "      <th>1</th>\n",
              "      <td>1</td>\n",
              "      <td>88.5</td>\n",
              "      <td>NaN</td>\n",
              "      <td>1</td>\n",
              "      <td>NaN</td>\n",
              "      <td>4.00</td>\n",
              "      <td>1</td>\n",
              "    </tr>\n",
              "    <tr>\n",
              "      <th>2</th>\n",
              "      <td>1</td>\n",
              "      <td>85.2</td>\n",
              "      <td>7.0</td>\n",
              "      <td>1</td>\n",
              "      <td>NaN</td>\n",
              "      <td>3.69</td>\n",
              "      <td>1</td>\n",
              "    </tr>\n",
              "    <tr>\n",
              "      <th>3</th>\n",
              "      <td>1</td>\n",
              "      <td>71.8</td>\n",
              "      <td>7.6</td>\n",
              "      <td>1</td>\n",
              "      <td>65.0</td>\n",
              "      <td>3.88</td>\n",
              "      <td>0</td>\n",
              "    </tr>\n",
              "    <tr>\n",
              "      <th>4</th>\n",
              "      <td>1</td>\n",
              "      <td>70.6</td>\n",
              "      <td>7.5</td>\n",
              "      <td>1</td>\n",
              "      <td>42.0</td>\n",
              "      <td>3.53</td>\n",
              "      <td>0</td>\n",
              "    </tr>\n",
              "  </tbody>\n",
              "</table>\n",
              "</div>\n",
              "    <div class=\"colab-df-buttons\">\n",
              "\n",
              "  <div class=\"colab-df-container\">\n",
              "    <button class=\"colab-df-convert\" onclick=\"convertToInteractive('df-ea7e9ebd-b260-40d4-8af7-0b24d83d8753')\"\n",
              "            title=\"Convert this dataframe to an interactive table.\"\n",
              "            style=\"display:none;\">\n",
              "\n",
              "  <svg xmlns=\"http://www.w3.org/2000/svg\" height=\"24px\" viewBox=\"0 -960 960 960\">\n",
              "    <path d=\"M120-120v-720h720v720H120Zm60-500h600v-160H180v160Zm220 220h160v-160H400v160Zm0 220h160v-160H400v160ZM180-400h160v-160H180v160Zm440 0h160v-160H620v160ZM180-180h160v-160H180v160Zm440 0h160v-160H620v160Z\"/>\n",
              "  </svg>\n",
              "    </button>\n",
              "\n",
              "  <style>\n",
              "    .colab-df-container {\n",
              "      display:flex;\n",
              "      gap: 12px;\n",
              "    }\n",
              "\n",
              "    .colab-df-convert {\n",
              "      background-color: #E8F0FE;\n",
              "      border: none;\n",
              "      border-radius: 50%;\n",
              "      cursor: pointer;\n",
              "      display: none;\n",
              "      fill: #1967D2;\n",
              "      height: 32px;\n",
              "      padding: 0 0 0 0;\n",
              "      width: 32px;\n",
              "    }\n",
              "\n",
              "    .colab-df-convert:hover {\n",
              "      background-color: #E2EBFA;\n",
              "      box-shadow: 0px 1px 2px rgba(60, 64, 67, 0.3), 0px 1px 3px 1px rgba(60, 64, 67, 0.15);\n",
              "      fill: #174EA6;\n",
              "    }\n",
              "\n",
              "    .colab-df-buttons div {\n",
              "      margin-bottom: 4px;\n",
              "    }\n",
              "\n",
              "    [theme=dark] .colab-df-convert {\n",
              "      background-color: #3B4455;\n",
              "      fill: #D2E3FC;\n",
              "    }\n",
              "\n",
              "    [theme=dark] .colab-df-convert:hover {\n",
              "      background-color: #434B5C;\n",
              "      box-shadow: 0px 1px 3px 1px rgba(0, 0, 0, 0.15);\n",
              "      filter: drop-shadow(0px 1px 2px rgba(0, 0, 0, 0.3));\n",
              "      fill: #FFFFFF;\n",
              "    }\n",
              "  </style>\n",
              "\n",
              "    <script>\n",
              "      const buttonEl =\n",
              "        document.querySelector('#df-ea7e9ebd-b260-40d4-8af7-0b24d83d8753 button.colab-df-convert');\n",
              "      buttonEl.style.display =\n",
              "        google.colab.kernel.accessAllowed ? 'block' : 'none';\n",
              "\n",
              "      async function convertToInteractive(key) {\n",
              "        const element = document.querySelector('#df-ea7e9ebd-b260-40d4-8af7-0b24d83d8753');\n",
              "        const dataTable =\n",
              "          await google.colab.kernel.invokeFunction('convertToInteractive',\n",
              "                                                    [key], {});\n",
              "        if (!dataTable) return;\n",
              "\n",
              "        const docLinkHtml = 'Like what you see? Visit the ' +\n",
              "          '<a target=\"_blank\" href=https://colab.research.google.com/notebooks/data_table.ipynb>data table notebook</a>'\n",
              "          + ' to learn more about interactive tables.';\n",
              "        element.innerHTML = '';\n",
              "        dataTable['output_type'] = 'display_data';\n",
              "        await google.colab.output.renderOutput(dataTable, element);\n",
              "        const docLink = document.createElement('div');\n",
              "        docLink.innerHTML = docLinkHtml;\n",
              "        element.appendChild(docLink);\n",
              "      }\n",
              "    </script>\n",
              "  </div>\n",
              "\n",
              "\n",
              "    <div id=\"df-6eb25f91-c7fd-430b-aa94-4e58a95e5f60\">\n",
              "      <button class=\"colab-df-quickchart\" onclick=\"quickchart('df-6eb25f91-c7fd-430b-aa94-4e58a95e5f60')\"\n",
              "                title=\"Suggest charts\"\n",
              "                style=\"display:none;\">\n",
              "\n",
              "<svg xmlns=\"http://www.w3.org/2000/svg\" height=\"24px\"viewBox=\"0 0 24 24\"\n",
              "     width=\"24px\">\n",
              "    <g>\n",
              "        <path d=\"M19 3H5c-1.1 0-2 .9-2 2v14c0 1.1.9 2 2 2h14c1.1 0 2-.9 2-2V5c0-1.1-.9-2-2-2zM9 17H7v-7h2v7zm4 0h-2V7h2v10zm4 0h-2v-4h2v4z\"/>\n",
              "    </g>\n",
              "</svg>\n",
              "      </button>\n",
              "\n",
              "<style>\n",
              "  .colab-df-quickchart {\n",
              "      --bg-color: #E8F0FE;\n",
              "      --fill-color: #1967D2;\n",
              "      --hover-bg-color: #E2EBFA;\n",
              "      --hover-fill-color: #174EA6;\n",
              "      --disabled-fill-color: #AAA;\n",
              "      --disabled-bg-color: #DDD;\n",
              "  }\n",
              "\n",
              "  [theme=dark] .colab-df-quickchart {\n",
              "      --bg-color: #3B4455;\n",
              "      --fill-color: #D2E3FC;\n",
              "      --hover-bg-color: #434B5C;\n",
              "      --hover-fill-color: #FFFFFF;\n",
              "      --disabled-bg-color: #3B4455;\n",
              "      --disabled-fill-color: #666;\n",
              "  }\n",
              "\n",
              "  .colab-df-quickchart {\n",
              "    background-color: var(--bg-color);\n",
              "    border: none;\n",
              "    border-radius: 50%;\n",
              "    cursor: pointer;\n",
              "    display: none;\n",
              "    fill: var(--fill-color);\n",
              "    height: 32px;\n",
              "    padding: 0;\n",
              "    width: 32px;\n",
              "  }\n",
              "\n",
              "  .colab-df-quickchart:hover {\n",
              "    background-color: var(--hover-bg-color);\n",
              "    box-shadow: 0 1px 2px rgba(60, 64, 67, 0.3), 0 1px 3px 1px rgba(60, 64, 67, 0.15);\n",
              "    fill: var(--button-hover-fill-color);\n",
              "  }\n",
              "\n",
              "  .colab-df-quickchart-complete:disabled,\n",
              "  .colab-df-quickchart-complete:disabled:hover {\n",
              "    background-color: var(--disabled-bg-color);\n",
              "    fill: var(--disabled-fill-color);\n",
              "    box-shadow: none;\n",
              "  }\n",
              "\n",
              "  .colab-df-spinner {\n",
              "    border: 2px solid var(--fill-color);\n",
              "    border-color: transparent;\n",
              "    border-bottom-color: var(--fill-color);\n",
              "    animation:\n",
              "      spin 1s steps(1) infinite;\n",
              "  }\n",
              "\n",
              "  @keyframes spin {\n",
              "    0% {\n",
              "      border-color: transparent;\n",
              "      border-bottom-color: var(--fill-color);\n",
              "      border-left-color: var(--fill-color);\n",
              "    }\n",
              "    20% {\n",
              "      border-color: transparent;\n",
              "      border-left-color: var(--fill-color);\n",
              "      border-top-color: var(--fill-color);\n",
              "    }\n",
              "    30% {\n",
              "      border-color: transparent;\n",
              "      border-left-color: var(--fill-color);\n",
              "      border-top-color: var(--fill-color);\n",
              "      border-right-color: var(--fill-color);\n",
              "    }\n",
              "    40% {\n",
              "      border-color: transparent;\n",
              "      border-right-color: var(--fill-color);\n",
              "      border-top-color: var(--fill-color);\n",
              "    }\n",
              "    60% {\n",
              "      border-color: transparent;\n",
              "      border-right-color: var(--fill-color);\n",
              "    }\n",
              "    80% {\n",
              "      border-color: transparent;\n",
              "      border-right-color: var(--fill-color);\n",
              "      border-bottom-color: var(--fill-color);\n",
              "    }\n",
              "    90% {\n",
              "      border-color: transparent;\n",
              "      border-bottom-color: var(--fill-color);\n",
              "    }\n",
              "  }\n",
              "</style>\n",
              "\n",
              "      <script>\n",
              "        async function quickchart(key) {\n",
              "          const quickchartButtonEl =\n",
              "            document.querySelector('#' + key + ' button');\n",
              "          quickchartButtonEl.disabled = true;  // To prevent multiple clicks.\n",
              "          quickchartButtonEl.classList.add('colab-df-spinner');\n",
              "          try {\n",
              "            const charts = await google.colab.kernel.invokeFunction(\n",
              "                'suggestCharts', [key], {});\n",
              "          } catch (error) {\n",
              "            console.error('Error during call to suggestCharts:', error);\n",
              "          }\n",
              "          quickchartButtonEl.classList.remove('colab-df-spinner');\n",
              "          quickchartButtonEl.classList.add('colab-df-quickchart-complete');\n",
              "        }\n",
              "        (() => {\n",
              "          let quickchartButtonEl =\n",
              "            document.querySelector('#df-6eb25f91-c7fd-430b-aa94-4e58a95e5f60 button');\n",
              "          quickchartButtonEl.style.display =\n",
              "            google.colab.kernel.accessAllowed ? 'block' : 'none';\n",
              "        })();\n",
              "      </script>\n",
              "    </div>\n",
              "\n",
              "    </div>\n",
              "  </div>\n"
            ],
            "application/vnd.google.colaboratory.intrinsic+json": {
              "type": "dataframe",
              "variable_name": "df",
              "summary": "{\n  \"name\": \"df\",\n  \"rows\": 42,\n  \"fields\": [\n    {\n      \"column\": \"Site\",\n      \"properties\": {\n        \"dtype\": \"number\",\n        \"std\": 0,\n        \"min\": 1,\n        \"max\": 2,\n        \"num_unique_values\": 2,\n        \"samples\": [\n          2,\n          1\n        ],\n        \"semantic_type\": \"\",\n        \"description\": \"\"\n      }\n    },\n    {\n      \"column\": \"Time\",\n      \"properties\": {\n        \"dtype\": \"number\",\n        \"std\": 20.512413170484233,\n        \"min\": 26.5,\n        \"max\": 93.6,\n        \"num_unique_values\": 39,\n        \"samples\": [\n          32.2,\n          27.6\n        ],\n        \"semantic_type\": \"\",\n        \"description\": \"\"\n      }\n    },\n    {\n      \"column\": \"Depth\",\n      \"properties\": {\n        \"dtype\": \"number\",\n        \"std\": 1.4718237815385509,\n        \"min\": 4.0,\n        \"max\": 9.25,\n        \"num_unique_values\": 14,\n        \"samples\": [\n          5.5,\n          4.75\n        ],\n        \"semantic_type\": \"\",\n        \"description\": \"\"\n      }\n    },\n    {\n      \"column\": \"Lime\",\n      \"properties\": {\n        \"dtype\": \"number\",\n        \"std\": 0,\n        \"min\": 0,\n        \"max\": 1,\n        \"num_unique_values\": 2,\n        \"samples\": [\n          0,\n          1\n        ],\n        \"semantic_type\": \"\",\n        \"description\": \"\"\n      }\n    },\n    {\n      \"column\": \"Age\",\n      \"properties\": {\n        \"dtype\": \"number\",\n        \"std\": 9.923065397887706,\n        \"min\": 19.0,\n        \"max\": 65.0,\n        \"num_unique_values\": 24,\n        \"samples\": [\n          38.0,\n          47.0\n        ],\n        \"semantic_type\": \"\",\n        \"description\": \"\"\n      }\n    },\n    {\n      \"column\": \"Nitro\",\n      \"properties\": {\n        \"dtype\": \"number\",\n        \"std\": 0.17917882761310938,\n        \"min\": 3.27,\n        \"max\": 4.06,\n        \"num_unique_values\": 29,\n        \"samples\": [\n          4.06,\n          3.49\n        ],\n        \"semantic_type\": \"\",\n        \"description\": \"\"\n      }\n    },\n    {\n      \"column\": \"Oil\",\n      \"properties\": {\n        \"dtype\": \"number\",\n        \"std\": 0,\n        \"min\": 0,\n        \"max\": 1,\n        \"num_unique_values\": 2,\n        \"samples\": [\n          0,\n          1\n        ],\n        \"semantic_type\": \"\",\n        \"description\": \"\"\n      }\n    }\n  ]\n}"
            }
          },
          "metadata": {},
          "execution_count": 4
        }
      ]
    },
    {
      "cell_type": "markdown",
      "metadata": {
        "id": "UygPGJ5Iq4zZ"
      },
      "source": [
        "The two variables we are interested in - for now - are\n",
        "\n",
        "- Nitro, the amount of nitrogren present in the long bones of the skeleton measured in g/100g of bone\n",
        "- Time, the interment time of the body"
      ]
    },
    {
      "cell_type": "markdown",
      "metadata": {
        "id": "q5ese6fvrSBQ"
      },
      "source": [
        "Simple linear regression and correlation measure the *linear* relationship between two quantitative variables."
      ]
    },
    {
      "cell_type": "markdown",
      "metadata": {
        "id": "i2YWNjqzA36e"
      },
      "source": [
        "#Objective - Identify the independent and dependent variables in a relationship"
      ]
    },
    {
      "cell_type": "markdown",
      "metadata": {
        "id": "n2D0DmCwru_g"
      },
      "source": [
        "Each of the two variables has a unique role in the relationship.\n",
        "- The dependent variable (also known as the target, response or y variable) is the focus of our research question or experiment.  It is the variable we expect to change in response to the independent variable.\n",
        "- The independent variable (also known as a feature, explanatory or x variable) is used to predict change in the dependent variable."
      ]
    },
    {
      "cell_type": "markdown",
      "metadata": {
        "id": "s5AsLaQitiEX"
      },
      "source": [
        "In this case, because we want to try to use the nitrogen composition of the long bones of the skeleton to predict the amount of time the body has been buried, **nitrogen is the explanatory (independent variable / feature) variable and interrment time is the response / target / dependent variable**."
      ]
    },
    {
      "cell_type": "markdown",
      "metadata": {
        "id": "p-dC58hMvRYt"
      },
      "source": [
        "The classic visualization to show the relationship between two quantitative variables is called a scatterplot.\n",
        "\n",
        "In a scatterplot, we plot the value of the indepdendent variable and the value of the dependent variable as an (x,y) pair.  \n",
        "\n",
        "For example, the first observation would be plotted by moving right on the x-axis to 3.88 and up along the y-axis direction to 88.5.\n",
        "\n",
        "By convention, your dependent variable (target) is going to be on the y-axis. The x-axis will contain your independent variable (feature)."
      ]
    },
    {
      "cell_type": "code",
      "metadata": {
        "colab": {
          "base_uri": "https://localhost:8080/",
          "height": 112
        },
        "id": "GYfsFgQ-27jJ",
        "outputId": "c999c054-3848-4bf7-e320-2eb51555461b"
      },
      "source": [
        "df.head(2)"
      ],
      "execution_count": 5,
      "outputs": [
        {
          "output_type": "execute_result",
          "data": {
            "text/plain": [
              "   Site  Time  Depth  Lime  Age  Nitro  Oil\n",
              "0     1  88.5    7.0     1  NaN   3.88    1\n",
              "1     1  88.5    NaN     1  NaN   4.00    1"
            ],
            "text/html": [
              "\n",
              "  <div id=\"df-ffc8230c-f0a3-4bb7-a109-d5f9c36a99b8\" class=\"colab-df-container\">\n",
              "    <div>\n",
              "<style scoped>\n",
              "    .dataframe tbody tr th:only-of-type {\n",
              "        vertical-align: middle;\n",
              "    }\n",
              "\n",
              "    .dataframe tbody tr th {\n",
              "        vertical-align: top;\n",
              "    }\n",
              "\n",
              "    .dataframe thead th {\n",
              "        text-align: right;\n",
              "    }\n",
              "</style>\n",
              "<table border=\"1\" class=\"dataframe\">\n",
              "  <thead>\n",
              "    <tr style=\"text-align: right;\">\n",
              "      <th></th>\n",
              "      <th>Site</th>\n",
              "      <th>Time</th>\n",
              "      <th>Depth</th>\n",
              "      <th>Lime</th>\n",
              "      <th>Age</th>\n",
              "      <th>Nitro</th>\n",
              "      <th>Oil</th>\n",
              "    </tr>\n",
              "  </thead>\n",
              "  <tbody>\n",
              "    <tr>\n",
              "      <th>0</th>\n",
              "      <td>1</td>\n",
              "      <td>88.5</td>\n",
              "      <td>7.0</td>\n",
              "      <td>1</td>\n",
              "      <td>NaN</td>\n",
              "      <td>3.88</td>\n",
              "      <td>1</td>\n",
              "    </tr>\n",
              "    <tr>\n",
              "      <th>1</th>\n",
              "      <td>1</td>\n",
              "      <td>88.5</td>\n",
              "      <td>NaN</td>\n",
              "      <td>1</td>\n",
              "      <td>NaN</td>\n",
              "      <td>4.00</td>\n",
              "      <td>1</td>\n",
              "    </tr>\n",
              "  </tbody>\n",
              "</table>\n",
              "</div>\n",
              "    <div class=\"colab-df-buttons\">\n",
              "\n",
              "  <div class=\"colab-df-container\">\n",
              "    <button class=\"colab-df-convert\" onclick=\"convertToInteractive('df-ffc8230c-f0a3-4bb7-a109-d5f9c36a99b8')\"\n",
              "            title=\"Convert this dataframe to an interactive table.\"\n",
              "            style=\"display:none;\">\n",
              "\n",
              "  <svg xmlns=\"http://www.w3.org/2000/svg\" height=\"24px\" viewBox=\"0 -960 960 960\">\n",
              "    <path d=\"M120-120v-720h720v720H120Zm60-500h600v-160H180v160Zm220 220h160v-160H400v160Zm0 220h160v-160H400v160ZM180-400h160v-160H180v160Zm440 0h160v-160H620v160ZM180-180h160v-160H180v160Zm440 0h160v-160H620v160Z\"/>\n",
              "  </svg>\n",
              "    </button>\n",
              "\n",
              "  <style>\n",
              "    .colab-df-container {\n",
              "      display:flex;\n",
              "      gap: 12px;\n",
              "    }\n",
              "\n",
              "    .colab-df-convert {\n",
              "      background-color: #E8F0FE;\n",
              "      border: none;\n",
              "      border-radius: 50%;\n",
              "      cursor: pointer;\n",
              "      display: none;\n",
              "      fill: #1967D2;\n",
              "      height: 32px;\n",
              "      padding: 0 0 0 0;\n",
              "      width: 32px;\n",
              "    }\n",
              "\n",
              "    .colab-df-convert:hover {\n",
              "      background-color: #E2EBFA;\n",
              "      box-shadow: 0px 1px 2px rgba(60, 64, 67, 0.3), 0px 1px 3px 1px rgba(60, 64, 67, 0.15);\n",
              "      fill: #174EA6;\n",
              "    }\n",
              "\n",
              "    .colab-df-buttons div {\n",
              "      margin-bottom: 4px;\n",
              "    }\n",
              "\n",
              "    [theme=dark] .colab-df-convert {\n",
              "      background-color: #3B4455;\n",
              "      fill: #D2E3FC;\n",
              "    }\n",
              "\n",
              "    [theme=dark] .colab-df-convert:hover {\n",
              "      background-color: #434B5C;\n",
              "      box-shadow: 0px 1px 3px 1px rgba(0, 0, 0, 0.15);\n",
              "      filter: drop-shadow(0px 1px 2px rgba(0, 0, 0, 0.3));\n",
              "      fill: #FFFFFF;\n",
              "    }\n",
              "  </style>\n",
              "\n",
              "    <script>\n",
              "      const buttonEl =\n",
              "        document.querySelector('#df-ffc8230c-f0a3-4bb7-a109-d5f9c36a99b8 button.colab-df-convert');\n",
              "      buttonEl.style.display =\n",
              "        google.colab.kernel.accessAllowed ? 'block' : 'none';\n",
              "\n",
              "      async function convertToInteractive(key) {\n",
              "        const element = document.querySelector('#df-ffc8230c-f0a3-4bb7-a109-d5f9c36a99b8');\n",
              "        const dataTable =\n",
              "          await google.colab.kernel.invokeFunction('convertToInteractive',\n",
              "                                                    [key], {});\n",
              "        if (!dataTable) return;\n",
              "\n",
              "        const docLinkHtml = 'Like what you see? Visit the ' +\n",
              "          '<a target=\"_blank\" href=https://colab.research.google.com/notebooks/data_table.ipynb>data table notebook</a>'\n",
              "          + ' to learn more about interactive tables.';\n",
              "        element.innerHTML = '';\n",
              "        dataTable['output_type'] = 'display_data';\n",
              "        await google.colab.output.renderOutput(dataTable, element);\n",
              "        const docLink = document.createElement('div');\n",
              "        docLink.innerHTML = docLinkHtml;\n",
              "        element.appendChild(docLink);\n",
              "      }\n",
              "    </script>\n",
              "  </div>\n",
              "\n",
              "\n",
              "    <div id=\"df-8d224ab2-d38a-4250-9d86-6d5504cb8229\">\n",
              "      <button class=\"colab-df-quickchart\" onclick=\"quickchart('df-8d224ab2-d38a-4250-9d86-6d5504cb8229')\"\n",
              "                title=\"Suggest charts\"\n",
              "                style=\"display:none;\">\n",
              "\n",
              "<svg xmlns=\"http://www.w3.org/2000/svg\" height=\"24px\"viewBox=\"0 0 24 24\"\n",
              "     width=\"24px\">\n",
              "    <g>\n",
              "        <path d=\"M19 3H5c-1.1 0-2 .9-2 2v14c0 1.1.9 2 2 2h14c1.1 0 2-.9 2-2V5c0-1.1-.9-2-2-2zM9 17H7v-7h2v7zm4 0h-2V7h2v10zm4 0h-2v-4h2v4z\"/>\n",
              "    </g>\n",
              "</svg>\n",
              "      </button>\n",
              "\n",
              "<style>\n",
              "  .colab-df-quickchart {\n",
              "      --bg-color: #E8F0FE;\n",
              "      --fill-color: #1967D2;\n",
              "      --hover-bg-color: #E2EBFA;\n",
              "      --hover-fill-color: #174EA6;\n",
              "      --disabled-fill-color: #AAA;\n",
              "      --disabled-bg-color: #DDD;\n",
              "  }\n",
              "\n",
              "  [theme=dark] .colab-df-quickchart {\n",
              "      --bg-color: #3B4455;\n",
              "      --fill-color: #D2E3FC;\n",
              "      --hover-bg-color: #434B5C;\n",
              "      --hover-fill-color: #FFFFFF;\n",
              "      --disabled-bg-color: #3B4455;\n",
              "      --disabled-fill-color: #666;\n",
              "  }\n",
              "\n",
              "  .colab-df-quickchart {\n",
              "    background-color: var(--bg-color);\n",
              "    border: none;\n",
              "    border-radius: 50%;\n",
              "    cursor: pointer;\n",
              "    display: none;\n",
              "    fill: var(--fill-color);\n",
              "    height: 32px;\n",
              "    padding: 0;\n",
              "    width: 32px;\n",
              "  }\n",
              "\n",
              "  .colab-df-quickchart:hover {\n",
              "    background-color: var(--hover-bg-color);\n",
              "    box-shadow: 0 1px 2px rgba(60, 64, 67, 0.3), 0 1px 3px 1px rgba(60, 64, 67, 0.15);\n",
              "    fill: var(--button-hover-fill-color);\n",
              "  }\n",
              "\n",
              "  .colab-df-quickchart-complete:disabled,\n",
              "  .colab-df-quickchart-complete:disabled:hover {\n",
              "    background-color: var(--disabled-bg-color);\n",
              "    fill: var(--disabled-fill-color);\n",
              "    box-shadow: none;\n",
              "  }\n",
              "\n",
              "  .colab-df-spinner {\n",
              "    border: 2px solid var(--fill-color);\n",
              "    border-color: transparent;\n",
              "    border-bottom-color: var(--fill-color);\n",
              "    animation:\n",
              "      spin 1s steps(1) infinite;\n",
              "  }\n",
              "\n",
              "  @keyframes spin {\n",
              "    0% {\n",
              "      border-color: transparent;\n",
              "      border-bottom-color: var(--fill-color);\n",
              "      border-left-color: var(--fill-color);\n",
              "    }\n",
              "    20% {\n",
              "      border-color: transparent;\n",
              "      border-left-color: var(--fill-color);\n",
              "      border-top-color: var(--fill-color);\n",
              "    }\n",
              "    30% {\n",
              "      border-color: transparent;\n",
              "      border-left-color: var(--fill-color);\n",
              "      border-top-color: var(--fill-color);\n",
              "      border-right-color: var(--fill-color);\n",
              "    }\n",
              "    40% {\n",
              "      border-color: transparent;\n",
              "      border-right-color: var(--fill-color);\n",
              "      border-top-color: var(--fill-color);\n",
              "    }\n",
              "    60% {\n",
              "      border-color: transparent;\n",
              "      border-right-color: var(--fill-color);\n",
              "    }\n",
              "    80% {\n",
              "      border-color: transparent;\n",
              "      border-right-color: var(--fill-color);\n",
              "      border-bottom-color: var(--fill-color);\n",
              "    }\n",
              "    90% {\n",
              "      border-color: transparent;\n",
              "      border-bottom-color: var(--fill-color);\n",
              "    }\n",
              "  }\n",
              "</style>\n",
              "\n",
              "      <script>\n",
              "        async function quickchart(key) {\n",
              "          const quickchartButtonEl =\n",
              "            document.querySelector('#' + key + ' button');\n",
              "          quickchartButtonEl.disabled = true;  // To prevent multiple clicks.\n",
              "          quickchartButtonEl.classList.add('colab-df-spinner');\n",
              "          try {\n",
              "            const charts = await google.colab.kernel.invokeFunction(\n",
              "                'suggestCharts', [key], {});\n",
              "          } catch (error) {\n",
              "            console.error('Error during call to suggestCharts:', error);\n",
              "          }\n",
              "          quickchartButtonEl.classList.remove('colab-df-spinner');\n",
              "          quickchartButtonEl.classList.add('colab-df-quickchart-complete');\n",
              "        }\n",
              "        (() => {\n",
              "          let quickchartButtonEl =\n",
              "            document.querySelector('#df-8d224ab2-d38a-4250-9d86-6d5504cb8229 button');\n",
              "          quickchartButtonEl.style.display =\n",
              "            google.colab.kernel.accessAllowed ? 'block' : 'none';\n",
              "        })();\n",
              "      </script>\n",
              "    </div>\n",
              "\n",
              "    </div>\n",
              "  </div>\n"
            ],
            "application/vnd.google.colaboratory.intrinsic+json": {
              "type": "dataframe",
              "variable_name": "df",
              "summary": "{\n  \"name\": \"df\",\n  \"rows\": 42,\n  \"fields\": [\n    {\n      \"column\": \"Site\",\n      \"properties\": {\n        \"dtype\": \"number\",\n        \"std\": 0,\n        \"min\": 1,\n        \"max\": 2,\n        \"num_unique_values\": 2,\n        \"samples\": [\n          2,\n          1\n        ],\n        \"semantic_type\": \"\",\n        \"description\": \"\"\n      }\n    },\n    {\n      \"column\": \"Time\",\n      \"properties\": {\n        \"dtype\": \"number\",\n        \"std\": 20.512413170484233,\n        \"min\": 26.5,\n        \"max\": 93.6,\n        \"num_unique_values\": 39,\n        \"samples\": [\n          32.2,\n          27.6\n        ],\n        \"semantic_type\": \"\",\n        \"description\": \"\"\n      }\n    },\n    {\n      \"column\": \"Depth\",\n      \"properties\": {\n        \"dtype\": \"number\",\n        \"std\": 1.4718237815385509,\n        \"min\": 4.0,\n        \"max\": 9.25,\n        \"num_unique_values\": 14,\n        \"samples\": [\n          5.5,\n          4.75\n        ],\n        \"semantic_type\": \"\",\n        \"description\": \"\"\n      }\n    },\n    {\n      \"column\": \"Lime\",\n      \"properties\": {\n        \"dtype\": \"number\",\n        \"std\": 0,\n        \"min\": 0,\n        \"max\": 1,\n        \"num_unique_values\": 2,\n        \"samples\": [\n          0,\n          1\n        ],\n        \"semantic_type\": \"\",\n        \"description\": \"\"\n      }\n    },\n    {\n      \"column\": \"Age\",\n      \"properties\": {\n        \"dtype\": \"number\",\n        \"std\": 9.923065397887706,\n        \"min\": 19.0,\n        \"max\": 65.0,\n        \"num_unique_values\": 24,\n        \"samples\": [\n          38.0,\n          47.0\n        ],\n        \"semantic_type\": \"\",\n        \"description\": \"\"\n      }\n    },\n    {\n      \"column\": \"Nitro\",\n      \"properties\": {\n        \"dtype\": \"number\",\n        \"std\": 0.17917882761310938,\n        \"min\": 3.27,\n        \"max\": 4.06,\n        \"num_unique_values\": 29,\n        \"samples\": [\n          4.06,\n          3.49\n        ],\n        \"semantic_type\": \"\",\n        \"description\": \"\"\n      }\n    },\n    {\n      \"column\": \"Oil\",\n      \"properties\": {\n        \"dtype\": \"number\",\n        \"std\": 0,\n        \"min\": 0,\n        \"max\": 1,\n        \"num_unique_values\": 2,\n        \"samples\": [\n          0,\n          1\n        ],\n        \"semantic_type\": \"\",\n        \"description\": \"\"\n      }\n    }\n  ]\n}"
            }
          },
          "metadata": {},
          "execution_count": 5
        }
      ]
    },
    {
      "cell_type": "code",
      "metadata": {
        "id": "sVZOz0j8xLb4",
        "colab": {
          "base_uri": "https://localhost:8080/",
          "height": 506
        },
        "outputId": "d100c481-3462-4595-8508-8985960e9366"
      },
      "source": [
        "import matplotlib.pyplot as plt\n",
        "import seaborn as sns\n",
        "\n",
        "#write your code here\n",
        "#sns.lmplot\n",
        "sns.lmplot(x=\"Depth\",y=\"Nitro\",data=df)\n",
        "plt.show();"
      ],
      "execution_count": 12,
      "outputs": [
        {
          "output_type": "display_data",
          "data": {
            "text/plain": [
              "<Figure size 500x500 with 1 Axes>"
            ],
            "image/png": "[encoded data removed]"
          },
          "metadata": {}
        }
      ]
    },
    {
      "cell_type": "markdown",
      "metadata": {
        "id": "4eJsXuRLxKrz"
      },
      "source": [
        "From the scatterplot we can see that there is - maybe - a negative relationship between the amount of nitrogen still remaining in the long bones of the skeleton and the length of time the skeleton has been buried."
      ]
    },
    {
      "cell_type": "markdown",
      "metadata": {
        "id": "9VLKDiESxJSR"
      },
      "source": [
        "Before we get too much farther, let's take a look at the data and see if we need to do any additional data cleaning"
      ]
    },
    {
      "cell_type": "code",
      "metadata": {
        "id": "jagDF8wF0aaZ"
      },
      "source": [
        "#This is a short dataset so we can just print it out look for missing data.\n",
        "# print (df)"
      ],
      "execution_count": null,
      "outputs": []
    },
    {
      "cell_type": "markdown",
      "metadata": {
        "id": "82l60bgp0vR5"
      },
      "source": [
        "First, the age of the individual at the time of death was unknown in several cases.  "
      ]
    },
    {
      "cell_type": "markdown",
      "metadata": {
        "id": "ZTnN18NN1H-c"
      },
      "source": [
        "It is good practice to eliminate (or impute - but we'll save that for later) missing data before building a regression model.  Even though all of the records for nitgrogen composition and interment time are complete, later we will want to be able to include age as an independent predictor, and it is missing for some records."
      ]
    },
    {
      "cell_type": "markdown",
      "metadata": {
        "id": "12WjHAT91iBl"
      },
      "source": [
        "When we build a regression model, it is always important to build it using the same individuals every time.  It's not fair to compare the fit of a model with fewer variables and more observations to a model with more variables and fewer observations (because some of those other variables include missing data)."
      ]
    },
    {
      "cell_type": "markdown",
      "metadata": {
        "id": "G4oNjo6t2BAs"
      },
      "source": [
        "There is also a variable called Oil that indicates if the burial site was contaminated with fuel oil.  The study authors decided to remove those observations from their analysis because they were concerned that the oil contamination would change the natural relationship between nitrogen composition and interment time."
      ]
    },
    {
      "cell_type": "markdown",
      "metadata": {
        "id": "wMQY1jX04Njg"
      },
      "source": [
        "We can print these observations in a different color on our scatterplot to see if they fall in the general pattern of - or away from the pattern of - the overall relationship between long bone nitrogen compostion and interment time."
      ]
    },
    {
      "cell_type": "code",
      "metadata": {
        "colab": {
          "base_uri": "https://localhost:8080/",
          "height": 112
        },
        "id": "NFa38rj43JlB",
        "outputId": "4d2dbf9c-249a-435e-e405-f3753c8c4612"
      },
      "source": [
        "# df.head(2)\n",
        "df.head(2)"
      ],
      "execution_count": 13,
      "outputs": [
        {
          "output_type": "execute_result",
          "data": {
            "text/plain": [
              "   Site  Time  Depth  Lime  Age  Nitro  Oil\n",
              "0     1  88.5    7.0     1  NaN   3.88    1\n",
              "1     1  88.5    NaN     1  NaN   4.00    1"
            ],
            "text/html": [
              "\n",
              "  <div id=\"df-eafa39e3-718e-4b1e-b585-b558a996af4d\" class=\"colab-df-container\">\n",
              "    <div>\n",
              "<style scoped>\n",
              "    .dataframe tbody tr th:only-of-type {\n",
              "        vertical-align: middle;\n",
              "    }\n",
              "\n",
              "    .dataframe tbody tr th {\n",
              "        vertical-align: top;\n",
              "    }\n",
              "\n",
              "    .dataframe thead th {\n",
              "        text-align: right;\n",
              "    }\n",
              "</style>\n",
              "<table border=\"1\" class=\"dataframe\">\n",
              "  <thead>\n",
              "    <tr style=\"text-align: right;\">\n",
              "      <th></th>\n",
              "      <th>Site</th>\n",
              "      <th>Time</th>\n",
              "      <th>Depth</th>\n",
              "      <th>Lime</th>\n",
              "      <th>Age</th>\n",
              "      <th>Nitro</th>\n",
              "      <th>Oil</th>\n",
              "    </tr>\n",
              "  </thead>\n",
              "  <tbody>\n",
              "    <tr>\n",
              "      <th>0</th>\n",
              "      <td>1</td>\n",
              "      <td>88.5</td>\n",
              "      <td>7.0</td>\n",
              "      <td>1</td>\n",
              "      <td>NaN</td>\n",
              "      <td>3.88</td>\n",
              "      <td>1</td>\n",
              "    </tr>\n",
              "    <tr>\n",
              "      <th>1</th>\n",
              "      <td>1</td>\n",
              "      <td>88.5</td>\n",
              "      <td>NaN</td>\n",
              "      <td>1</td>\n",
              "      <td>NaN</td>\n",
              "      <td>4.00</td>\n",
              "      <td>1</td>\n",
              "    </tr>\n",
              "  </tbody>\n",
              "</table>\n",
              "</div>\n",
              "    <div class=\"colab-df-buttons\">\n",
              "\n",
              "  <div class=\"colab-df-container\">\n",
              "    <button class=\"colab-df-convert\" onclick=\"convertToInteractive('df-eafa39e3-718e-4b1e-b585-b558a996af4d')\"\n",
              "            title=\"Convert this dataframe to an interactive table.\"\n",
              "            style=\"display:none;\">\n",
              "\n",
              "  <svg xmlns=\"http://www.w3.org/2000/svg\" height=\"24px\" viewBox=\"0 -960 960 960\">\n",
              "    <path d=\"M120-120v-720h720v720H120Zm60-500h600v-160H180v160Zm220 220h160v-160H400v160Zm0 220h160v-160H400v160ZM180-400h160v-160H180v160Zm440 0h160v-160H620v160ZM180-180h160v-160H180v160Zm440 0h160v-160H620v160Z\"/>\n",
              "  </svg>\n",
              "    </button>\n",
              "\n",
              "  <style>\n",
              "    .colab-df-container {\n",
              "      display:flex;\n",
              "      gap: 12px;\n",
              "    }\n",
              "\n",
              "    .colab-df-convert {\n",
              "      background-color: #E8F0FE;\n",
              "      border: none;\n",
              "      border-radius: 50%;\n",
              "      cursor: pointer;\n",
              "      display: none;\n",
              "      fill: #1967D2;\n",
              "      height: 32px;\n",
              "      padding: 0 0 0 0;\n",
              "      width: 32px;\n",
              "    }\n",
              "\n",
              "    .colab-df-convert:hover {\n",
              "      background-color: #E2EBFA;\n",
              "      box-shadow: 0px 1px 2px rgba(60, 64, 67, 0.3), 0px 1px 3px 1px rgba(60, 64, 67, 0.15);\n",
              "      fill: #174EA6;\n",
              "    }\n",
              "\n",
              "    .colab-df-buttons div {\n",
              "      margin-bottom: 4px;\n",
              "    }\n",
              "\n",
              "    [theme=dark] .colab-df-convert {\n",
              "      background-color: #3B4455;\n",
              "      fill: #D2E3FC;\n",
              "    }\n",
              "\n",
              "    [theme=dark] .colab-df-convert:hover {\n",
              "      background-color: #434B5C;\n",
              "      box-shadow: 0px 1px 3px 1px rgba(0, 0, 0, 0.15);\n",
              "      filter: drop-shadow(0px 1px 2px rgba(0, 0, 0, 0.3));\n",
              "      fill: #FFFFFF;\n",
              "    }\n",
              "  </style>\n",
              "\n",
              "    <script>\n",
              "      const buttonEl =\n",
              "        document.querySelector('#df-eafa39e3-718e-4b1e-b585-b558a996af4d button.colab-df-convert');\n",
              "      buttonEl.style.display =\n",
              "        google.colab.kernel.accessAllowed ? 'block' : 'none';\n",
              "\n",
              "      async function convertToInteractive(key) {\n",
              "        const element = document.querySelector('#df-eafa39e3-718e-4b1e-b585-b558a996af4d');\n",
              "        const dataTable =\n",
              "          await google.colab.kernel.invokeFunction('convertToInteractive',\n",
              "                                                    [key], {});\n",
              "        if (!dataTable) return;\n",
              "\n",
              "        const docLinkHtml = 'Like what you see? Visit the ' +\n",
              "          '<a target=\"_blank\" href=https://colab.research.google.com/notebooks/data_table.ipynb>data table notebook</a>'\n",
              "          + ' to learn more about interactive tables.';\n",
              "        element.innerHTML = '';\n",
              "        dataTable['output_type'] = 'display_data';\n",
              "        await google.colab.output.renderOutput(dataTable, element);\n",
              "        const docLink = document.createElement('div');\n",
              "        docLink.innerHTML = docLinkHtml;\n",
              "        element.appendChild(docLink);\n",
              "      }\n",
              "    </script>\n",
              "  </div>\n",
              "\n",
              "\n",
              "    <div id=\"df-ae9d14c3-5d7b-4dbd-9a93-0b0532170d24\">\n",
              "      <button class=\"colab-df-quickchart\" onclick=\"quickchart('df-ae9d14c3-5d7b-4dbd-9a93-0b0532170d24')\"\n",
              "                title=\"Suggest charts\"\n",
              "                style=\"display:none;\">\n",
              "\n",
              "<svg xmlns=\"http://www.w3.org/2000/svg\" height=\"24px\"viewBox=\"0 0 24 24\"\n",
              "     width=\"24px\">\n",
              "    <g>\n",
              "        <path d=\"M19 3H5c-1.1 0-2 .9-2 2v14c0 1.1.9 2 2 2h14c1.1 0 2-.9 2-2V5c0-1.1-.9-2-2-2zM9 17H7v-7h2v7zm4 0h-2V7h2v10zm4 0h-2v-4h2v4z\"/>\n",
              "    </g>\n",
              "</svg>\n",
              "      </button>\n",
              "\n",
              "<style>\n",
              "  .colab-df-quickchart {\n",
              "      --bg-color: #E8F0FE;\n",
              "      --fill-color: #1967D2;\n",
              "      --hover-bg-color: #E2EBFA;\n",
              "      --hover-fill-color: #174EA6;\n",
              "      --disabled-fill-color: #AAA;\n",
              "      --disabled-bg-color: #DDD;\n",
              "  }\n",
              "\n",
              "  [theme=dark] .colab-df-quickchart {\n",
              "      --bg-color: #3B4455;\n",
              "      --fill-color: #D2E3FC;\n",
              "      --hover-bg-color: #434B5C;\n",
              "      --hover-fill-color: #FFFFFF;\n",
              "      --disabled-bg-color: #3B4455;\n",
              "      --disabled-fill-color: #666;\n",
              "  }\n",
              "\n",
              "  .colab-df-quickchart {\n",
              "    background-color: var(--bg-color);\n",
              "    border: none;\n",
              "    border-radius: 50%;\n",
              "    cursor: pointer;\n",
              "    display: none;\n",
              "    fill: var(--fill-color);\n",
              "    height: 32px;\n",
              "    padding: 0;\n",
              "    width: 32px;\n",
              "  }\n",
              "\n",
              "  .colab-df-quickchart:hover {\n",
              "    background-color: var(--hover-bg-color);\n",
              "    box-shadow: 0 1px 2px rgba(60, 64, 67, 0.3), 0 1px 3px 1px rgba(60, 64, 67, 0.15);\n",
              "    fill: var(--button-hover-fill-color);\n",
              "  }\n",
              "\n",
              "  .colab-df-quickchart-complete:disabled,\n",
              "  .colab-df-quickchart-complete:disabled:hover {\n",
              "    background-color: var(--disabled-bg-color);\n",
              "    fill: var(--disabled-fill-color);\n",
              "    box-shadow: none;\n",
              "  }\n",
              "\n",
              "  .colab-df-spinner {\n",
              "    border: 2px solid var(--fill-color);\n",
              "    border-color: transparent;\n",
              "    border-bottom-color: var(--fill-color);\n",
              "    animation:\n",
              "      spin 1s steps(1) infinite;\n",
              "  }\n",
              "\n",
              "  @keyframes spin {\n",
              "    0% {\n",
              "      border-color: transparent;\n",
              "      border-bottom-color: var(--fill-color);\n",
              "      border-left-color: var(--fill-color);\n",
              "    }\n",
              "    20% {\n",
              "      border-color: transparent;\n",
              "      border-left-color: var(--fill-color);\n",
              "      border-top-color: var(--fill-color);\n",
              "    }\n",
              "    30% {\n",
              "      border-color: transparent;\n",
              "      border-left-color: var(--fill-color);\n",
              "      border-top-color: var(--fill-color);\n",
              "      border-right-color: var(--fill-color);\n",
              "    }\n",
              "    40% {\n",
              "      border-color: transparent;\n",
              "      border-right-color: var(--fill-color);\n",
              "      border-top-color: var(--fill-color);\n",
              "    }\n",
              "    60% {\n",
              "      border-color: transparent;\n",
              "      border-right-color: var(--fill-color);\n",
              "    }\n",
              "    80% {\n",
              "      border-color: transparent;\n",
              "      border-right-color: var(--fill-color);\n",
              "      border-bottom-color: var(--fill-color);\n",
              "    }\n",
              "    90% {\n",
              "      border-color: transparent;\n",
              "      border-bottom-color: var(--fill-color);\n",
              "    }\n",
              "  }\n",
              "</style>\n",
              "\n",
              "      <script>\n",
              "        async function quickchart(key) {\n",
              "          const quickchartButtonEl =\n",
              "            document.querySelector('#' + key + ' button');\n",
              "          quickchartButtonEl.disabled = true;  // To prevent multiple clicks.\n",
              "          quickchartButtonEl.classList.add('colab-df-spinner');\n",
              "          try {\n",
              "            const charts = await google.colab.kernel.invokeFunction(\n",
              "                'suggestCharts', [key], {});\n",
              "          } catch (error) {\n",
              "            console.error('Error during call to suggestCharts:', error);\n",
              "          }\n",
              "          quickchartButtonEl.classList.remove('colab-df-spinner');\n",
              "          quickchartButtonEl.classList.add('colab-df-quickchart-complete');\n",
              "        }\n",
              "        (() => {\n",
              "          let quickchartButtonEl =\n",
              "            document.querySelector('#df-ae9d14c3-5d7b-4dbd-9a93-0b0532170d24 button');\n",
              "          quickchartButtonEl.style.display =\n",
              "            google.colab.kernel.accessAllowed ? 'block' : 'none';\n",
              "        })();\n",
              "      </script>\n",
              "    </div>\n",
              "\n",
              "    </div>\n",
              "  </div>\n"
            ],
            "application/vnd.google.colaboratory.intrinsic+json": {
              "type": "dataframe",
              "variable_name": "df",
              "summary": "{\n  \"name\": \"df\",\n  \"rows\": 42,\n  \"fields\": [\n    {\n      \"column\": \"Site\",\n      \"properties\": {\n        \"dtype\": \"number\",\n        \"std\": 0,\n        \"min\": 1,\n        \"max\": 2,\n        \"num_unique_values\": 2,\n        \"samples\": [\n          2,\n          1\n        ],\n        \"semantic_type\": \"\",\n        \"description\": \"\"\n      }\n    },\n    {\n      \"column\": \"Time\",\n      \"properties\": {\n        \"dtype\": \"number\",\n        \"std\": 20.512413170484233,\n        \"min\": 26.5,\n        \"max\": 93.6,\n        \"num_unique_values\": 39,\n        \"samples\": [\n          32.2,\n          27.6\n        ],\n        \"semantic_type\": \"\",\n        \"description\": \"\"\n      }\n    },\n    {\n      \"column\": \"Depth\",\n      \"properties\": {\n        \"dtype\": \"number\",\n        \"std\": 1.4718237815385509,\n        \"min\": 4.0,\n        \"max\": 9.25,\n        \"num_unique_values\": 14,\n        \"samples\": [\n          5.5,\n          4.75\n        ],\n        \"semantic_type\": \"\",\n        \"description\": \"\"\n      }\n    },\n    {\n      \"column\": \"Lime\",\n      \"properties\": {\n        \"dtype\": \"number\",\n        \"std\": 0,\n        \"min\": 0,\n        \"max\": 1,\n        \"num_unique_values\": 2,\n        \"samples\": [\n          0,\n          1\n        ],\n        \"semantic_type\": \"\",\n        \"description\": \"\"\n      }\n    },\n    {\n      \"column\": \"Age\",\n      \"properties\": {\n        \"dtype\": \"number\",\n        \"std\": 9.923065397887706,\n        \"min\": 19.0,\n        \"max\": 65.0,\n        \"num_unique_values\": 24,\n        \"samples\": [\n          38.0,\n          47.0\n        ],\n        \"semantic_type\": \"\",\n        \"description\": \"\"\n      }\n    },\n    {\n      \"column\": \"Nitro\",\n      \"properties\": {\n        \"dtype\": \"number\",\n        \"std\": 0.17917882761310938,\n        \"min\": 3.27,\n        \"max\": 4.06,\n        \"num_unique_values\": 29,\n        \"samples\": [\n          4.06,\n          3.49\n        ],\n        \"semantic_type\": \"\",\n        \"description\": \"\"\n      }\n    },\n    {\n      \"column\": \"Oil\",\n      \"properties\": {\n        \"dtype\": \"number\",\n        \"std\": 0,\n        \"min\": 0,\n        \"max\": 1,\n        \"num_unique_values\": 2,\n        \"samples\": [\n          0,\n          1\n        ],\n        \"semantic_type\": \"\",\n        \"description\": \"\"\n      }\n    }\n  ]\n}"
            }
          },
          "metadata": {},
          "execution_count": 13
        }
      ]
    },
    {
      "cell_type": "code",
      "metadata": {
        "colab": {
          "base_uri": "https://localhost:8080/",
          "height": 529
        },
        "id": "oYOEQ6xLD2E9",
        "outputId": "61706ee2-f7ed-4c97-c279-938ed2711f49"
      },
      "source": [
        "sns.lmplot(data=df, x='Nitro', y='Time', hue='Oil', ci=None, fit_reg=False)\n",
        "\n",
        "plt.title('Long Bone Nitrogen Composition and Interment Time')\n",
        "plt.xlabel('Long Bone Nitrogen Composition in g/100g of Bone')\n",
        "plt.ylabel('Interment Time in Years')\n",
        "\n",
        "plt.show();"
      ],
      "execution_count": 7,
      "outputs": [
        {
          "output_type": "display_data",
          "data": {
            "text/plain": [
              "<Figure size 558.875x500 with 1 Axes>"
            ],
            "image/png": "[encoded data removed]"
          },
          "metadata": {}
        }
      ]
    },
    {
      "cell_type": "markdown",
      "metadata": {
        "id": "B1O2nuW_3ixr"
      },
      "source": [
        "Because there is a biological reason that oil contamination might obscure the true relationship between long bone nitrogen composition and interrment time, we will remove those observations from our dataset before we begin analyses."
      ]
    },
    {
      "cell_type": "markdown",
      "metadata": {
        "id": "4UiE90w06bju"
      },
      "source": [
        "Note that the three oil contaminated gravesites will be removed from the data when we remove the observations with a missing age or burial depth.\n",
        "\n",
        "Something to point out here - data cleaning isn't only about removing missing data.  Sometimes we don't want to remove records with missing data because they are communicating important information, and sometimes we want to remove other records for reasons related to the subject matter - as in the case with removing the observations that were contaminated with fuel oil."
      ]
    },
    {
      "cell_type": "code",
      "metadata": {
        "id": "McjJGlT66tXO",
        "colab": {
          "base_uri": "https://localhost:8080/"
        },
        "outputId": "b1a0dc0f-7d90-4ccc-f4ba-6620d4b86e0e"
      },
      "source": [
        "#Drop records with NAs and rename the dataset longbones\n",
        "print ('Number of samples before dropping null values, n:', len(df))\n",
        "# longbones = #drop null values\n",
        "longbones=df.dropna()\n",
        "print ('Number of samples after dropping null values, n:', len(longbones))"
      ],
      "execution_count": 9,
      "outputs": [
        {
          "output_type": "stream",
          "name": "stdout",
          "text": [
            "Number of samples before dropping null values, n: 42\n",
            "Number of samples after dropping null values, n: 35\n"
          ]
        }
      ]
    },
    {
      "cell_type": "code",
      "metadata": {
        "id": "J8UCpYvu8Z4H",
        "colab": {
          "base_uri": "https://localhost:8080/",
          "height": 472
        },
        "outputId": "71af41b7-cb67-4dba-bd71-7702bc1c2542"
      },
      "source": [
        "#Let's look at the scatterplot with the cleaned data.\n",
        "import matplotlib.pyplot as plt\n",
        "import seaborn as sns\n",
        "#x = 'Nitro', y = 'Time', hue='Oil', data=longbones ---plot\n",
        "sns.scatterplot(x=\"Nitro\",y=\"Time\",hue=\"Oil\",data=longbones)\n",
        "\n",
        "plt.title('Long Bone Nitrogen Composition and Interment Time')\n",
        "plt.xlabel('Long Bone Nitrogen Composition in g/100g of Bone')\n",
        "plt.ylabel('Interment Time in Years')\n",
        "\n",
        "plt.show()"
      ],
      "execution_count": 14,
      "outputs": [
        {
          "output_type": "display_data",
          "data": {
            "text/plain": [
              "<Figure size 640x480 with 1 Axes>"
            ],
            "image/png": "[encoded data removed]"
          },
          "metadata": {}
        }
      ]
    },
    {
      "cell_type": "markdown",
      "metadata": {
        "id": "FAOJxCYS-iE1"
      },
      "source": [
        "There appears to be a negative association between long bone nitrogen compostiion and interment time. Smaller  long bone nitrogen composition = longer interment time and vice versa."
      ]
    },
    {
      "cell_type": "markdown",
      "metadata": {
        "id": "dvVJB2Zy--jP"
      },
      "source": [
        "But is there a relationship between these two variables?  If so, how strong it is?"
      ]
    },
    {
      "cell_type": "markdown",
      "metadata": {
        "id": "vnpywxabBErE"
      },
      "source": [
        "#Objective - Calculate and interpret linear correlation"
      ]
    },
    {
      "cell_type": "markdown",
      "metadata": {
        "id": "gK6BZeBV_Hwb"
      },
      "source": [
        "The linear correlation coefficient (r) measures the strength and direction of the linear relationship between two quantiatative variables.\n",
        "\n",
        "\n",
        "- Correlation is measured on a scale of - 1 to 1.  - 1 = perfect negative correlation, 1 = perfect positive correlation, 0 = no correlation\n",
        "- Correlation has no units\n",
        "- The correlation of x with y is equal to the correlation of y with x\n",
        "- A correlation |r| > 0.80 is considered strong and a correlation |r| < 0.20 is considered weak.\n",
        "\n",
        "\n",
        "\n",
        "\n",
        "\n"
      ]
    },
    {
      "cell_type": "markdown",
      "metadata": {
        "id": "XK5-ZKk_DFLh"
      },
      "source": [
        "np.corrcoef gives us more information than we actually need *for now*."
      ]
    },
    {
      "cell_type": "markdown",
      "metadata": {
        "id": "yTZr0gz8FSnV"
      },
      "source": [
        "linear correlation between nitrogen composition and interrment time is _________?"
      ]
    },
    {
      "cell_type": "markdown",
      "metadata": {
        "id": "N1DwNk3MrIp3"
      },
      "source": [
        "Correlation gives us a measure of how related two quantiative variables are. However, we'd like to go one step further and see if we can use a skeleton's long bone nitrogen composition to estimate how long the body has been buried.\n",
        "\n",
        "We are going to do this by calculating the least squares regression line (also known as the line of best fit) for the data.\n",
        "\n"
      ]
    },
    {
      "cell_type": "markdown",
      "metadata": {
        "id": "xdaxrfNdsmga"
      },
      "source": [
        "When dealing with real data (as opposed to working with graphs in algebra), the points in a scatterplot will never line up perfectly.  The best model of the relationship between the two variables is the straight line that comes closest to passing through all the points (knowing that it won't actually hit all of them)."
      ]
    },
    {
      "cell_type": "markdown",
      "metadata": {
        "id": "CifWmZg3tySq"
      },
      "source": [
        "The least squares regression line is the line that minimizes the squared distances from every observed point to the regression line."
      ]
    },
    {
      "cell_type": "markdown",
      "metadata": {
        "id": "05Kj8dWzu-Li"
      },
      "source": [
        "![fig-lin-reg.webp](data:image/webp;base64,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)"
      ]
    },
    {
      "cell_type": "markdown",
      "metadata": {
        "id": "pqORbrm_vTew"
      },
      "source": [
        "The simple linear regression equation has the form:\n",
        "\n",
        "\\begin{equation}\n",
        "\\hat{Y} = b_1 X + b_0\n",
        "\\end{equation}\n",
        "\n",
        "\n"
      ]
    },
    {
      "cell_type": "markdown",
      "metadata": {
        "id": "fQPajmu2BKZa"
      },
      "source": [
        "#Implement a LinearRegressionModel class from scratch (without sklearn regression models)\n",
        "For this use dataset : https://www.kaggle.com/datasets/abhishek14398/salary-dataset-simple-linear-regression?select=Salary_dataset.csv\n",
        "\n",
        "Perform all the necessary preprocessing and EDA\n",
        "then move forward\n",
        "\n",
        "\n",
        "*   Gradient Descent method\n",
        "\n",
        "*   Normal Equation method\n",
        "#Train linear regression using both Gradient Descent and the Normal Equation.\n",
        "Split the dataset into train/validation (e.g., 80/20, shuffled with a fixed random seed).\n",
        "Fit on train only and report MSE on validation for both methods.\n",
        "Create a matplotlib animation of Gradient Descent. Also show the loss curve over epochs."
      ]
    },
    {
      "cell_type": "code",
      "metadata": {
        "id": "ctav7_IcZBNF"
      },
      "source": [],
      "execution_count": null,
      "outputs": []
    },
    {
      "cell_type": "code",
      "metadata": {
        "id": "TBLOQG-iyMhx"
      },
      "source": [],
      "execution_count": null,
      "outputs": []
    },
    {
      "cell_type": "code",
      "metadata": {
        "id": "Jv9RjYNE6qRo"
      },
      "source": [],
      "execution_count": null,
      "outputs": []
    },
    {
      "cell_type": "code",
      "metadata": {
        "id": "Joj5exSbChM3"
      },
      "source": [
        "\n",
        "\n"
      ],
      "execution_count": null,
      "outputs": []
    },
    {
      "cell_type": "markdown",
      "metadata": {
        "id": "4xPgxlOoChM4"
      },
      "source": [
        "\n",
        "\n",
        "---\n",
        "\n"
      ]
    }
  ]
}